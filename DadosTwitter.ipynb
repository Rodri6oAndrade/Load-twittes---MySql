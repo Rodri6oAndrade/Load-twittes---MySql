{
 "cells": [
  {
   "cell_type": "markdown",
   "metadata": {},
   "source": [
    "# Desafio - Twitter"
   ]
  },
  {
   "cell_type": "markdown",
   "metadata": {},
   "source": [
    "## Desenvolvimento de crawlers"
   ]
  },
  {
   "cell_type": "code",
   "execution_count": null,
   "metadata": {},
   "outputs": [],
   "source": [
    "#importar bibliotecas\n",
    "import json\n",
    "from tweepy import OAuthHandler, Stream, StreamListener\n",
    "from datetime import datetime"
   ]
  },
  {
   "cell_type": "code",
   "execution_count": null,
   "metadata": {},
   "outputs": [],
   "source": [
    "#Cadastrar chaves de acesso\n",
    "consumer_key = \"Tg58lI63lgbANDvkQsJin17mJ\"\n",
    "consumer_secret = \"72TMKUWaXPdRMUm6fDcNbLEY8r0YhKBiRLcafzThZycQCojl68\"\n",
    "\n",
    "access_token = \"1313174623681482753-eooKFusfY61mN14jKJEpnXR7yjxQC1\"\n",
    "Access_token_secret = \"klGgCyQhWxT6JkqL090Nnapz2WkYtZeWlex6v3NeQ4npL\""
   ]
  },
  {
   "cell_type": "code",
   "execution_count": null,
   "metadata": {},
   "outputs": [],
   "source": [
    "#Definir um arquivo de saída para armazenar os twtees coletados\n",
    "data_hoje = datetime.now().strftime(\"%Y-%m-%d-%H-%M-%S\")\n",
    "out = open(f\"collected_tweets_{data_hoje}.txt\",\"w\")"
   ]
  },
  {
   "cell_type": "code",
   "execution_count": null,
   "metadata": {},
   "outputs": [],
   "source": [
    "#Implemmentar uma classe para conexão com o Twitter\n",
    "class MyListener (StreamListener):\n",
    "    \n",
    "    def on_data(self, data):\n",
    "        itemString = json.dumps(data)\n",
    "        out.write(itemString + \"\\n\")\n",
    "        return True\n",
    "    \n",
    "    def on_error(self, status):\n",
    "        print(status)\n",
    "    "
   ]
  },
  {
   "cell_type": "code",
   "execution_count": null,
   "metadata": {},
   "outputs": [],
   "source": [
    "#implementar a função MAIN\n",
    "if __name__ == \"__main__\":\n",
    "    l = MyListener()\n",
    "    auth = OAuthHandler(consumer_key, consumer_secret)\n",
    "    auth.set_access_token(access_token, Access_token_secret)\n",
    "    \n",
    "    stream = Stream(auth, l)\n",
    "    stream.filter(track=[\"Trump\"]) #[\"Netflix\", \"HBOGO\", \"Globoplay\", \"Disney Pl\"]"
   ]
  },
  {
   "cell_type": "markdown",
   "metadata": {},
   "source": [
    "## Estrutura do Json"
   ]
  },
  {
   "cell_type": "code",
   "execution_count": null,
   "metadata": {},
   "outputs": [],
   "source": [
    "import json"
   ]
  },
  {
   "cell_type": "code",
   "execution_count": null,
   "metadata": {},
   "outputs": [],
   "source": [
    "#Abrir o arquivo de twitter e ler as linhas\n",
    "with open(\"collected_tweets_2020-11-30-22-05-28.txt\",'r') as file:\n",
    "    tweets = file.readlines()"
   ]
  },
  {
   "cell_type": "code",
   "execution_count": null,
   "metadata": {},
   "outputs": [],
   "source": [
    "#Ler a primeira linha\n",
    "tweets[0]"
   ]
  },
  {
   "cell_type": "code",
   "execution_count": null,
   "metadata": {},
   "outputs": [],
   "source": [
    "#Escrever o arquivo no formato Json, para ficar no formato dicionário precisa de converter duas vezes json.loads\n",
    "with open('tweet.json', 'w') as f:\n",
    "    json.dump(json.loads(json.loads(tweets[0])),f)"
   ]
  },
  {
   "cell_type": "code",
   "execution_count": null,
   "metadata": {},
   "outputs": [],
   "source": [
    "#Escrever o arquivo em formato de lista\n",
    "#Exemplo do que irá ser feito abaixo [i for i in range(10)]\n",
    "parsed_tweets = [json.loads(json.loads(i)) for i in tweets ]\n",
    "#Ver o tamanho dos parsed_tweets\n",
    "len(parsed_tweets)"
   ]
  },
  {
   "cell_type": "markdown",
   "metadata": {},
   "source": [
    "## Acessando as chaves do Json (dicionáirio)"
   ]
  },
  {
   "cell_type": "code",
   "execution_count": null,
   "metadata": {},
   "outputs": [],
   "source": [
    "#Trabalhando com o primeiro tweet\n",
    "primeiroTweet = parsed_tweets[100]"
   ]
  },
  {
   "cell_type": "code",
   "execution_count": null,
   "metadata": {},
   "outputs": [],
   "source": [
    "#teste para pegar as chaves do primeiro nivel do Tweet\n",
    "primeiroTweet['id']"
   ]
  },
  {
   "cell_type": "code",
   "execution_count": null,
   "metadata": {},
   "outputs": [],
   "source": [
    "#Acessar a chave do segundo nível do tweet\n",
    "primeiroTweet['user']['name']"
   ]
  },
  {
   "cell_type": "code",
   "execution_count": null,
   "metadata": {},
   "outputs": [],
   "source": [
    "#Acessar a chave do terceiro nível do tweet - tweet original\n",
    "primeiroTweet['retweeted_status']['entities']['user_mentions'][0]['name']"
   ]
  },
  {
   "cell_type": "markdown",
   "metadata": {},
   "source": [
    "## Transformar os Tweets em estruta relacional"
   ]
  },
  {
   "cell_type": "code",
   "execution_count": null,
   "metadata": {},
   "outputs": [],
   "source": [
    "#importar o pandas para colocar em estrutura de tabela\n",
    "import pandas as pd"
   ]
  },
  {
   "cell_type": "code",
   "execution_count": null,
   "metadata": {},
   "outputs": [],
   "source": [
    "#Transforma em dataFrame com os campos somente os dados nas linhas\n",
    "df_tratado = pd.DataFrame(primeiroTweet).reset_index(drop=True).iloc[:1]#pega somente a primeira linha até 1 exclusivo\n",
    "df_tratado"
   ]
  },
  {
   "cell_type": "code",
   "execution_count": null,
   "metadata": {},
   "outputs": [],
   "source": [
    "df_tratado.columns"
   ]
  },
  {
   "cell_type": "code",
   "execution_count": null,
   "metadata": {},
   "outputs": [],
   "source": [
    "#eliminar as colunas\n",
    "df_tratado.drop(columns = ['quote_count','reply_count', 'retweet_count', 'favorite_count',\n",
    "                          'favorited', 'retweeted', 'user', 'entities', 'retweeted_status' ], inplace = True)"
   ]
  },
  {
   "cell_type": "code",
   "execution_count": null,
   "metadata": {},
   "outputs": [],
   "source": [
    "df_tratado.columns"
   ]
  },
  {
   "cell_type": "code",
   "execution_count": null,
   "metadata": {},
   "outputs": [],
   "source": [
    "#Criando novas colunas segundo nivel e atribuindo valores\n",
    "df_tratado['user_id'] = primeiroTweet['user']['id']\n",
    "df_tratado['user_id_str'] = primeiroTweet['user']['id_str']\n",
    "df_tratado['user_screen_name'] = primeiroTweet['user']['screen_name']\n",
    "df_tratado['user_location'] = primeiroTweet['user']['location']"
   ]
  },
  {
   "cell_type": "code",
   "execution_count": null,
   "metadata": {},
   "outputs": [],
   "source": [
    "df_tratado.columns"
   ]
  },
  {
   "cell_type": "code",
   "execution_count": null,
   "metadata": {},
   "outputs": [],
   "source": [
    "# trabalhar com segundo e terceiro níveis\n",
    "user_mentions = []\n",
    "for i in range(len(primeiroTweet['entities']['user_mentions'])):\n",
    "    dicionariobase = primeiroTweet['entities']['user_mentions'][i].copy()\n",
    "    dicionariobase.pop('indices', None)\n",
    "    df = pd.DataFrame(dicionariobase, index = [0])\n",
    "    df = df.rename(columns = {\n",
    "        'screem_mame': 'entities_screen_name',\n",
    "        'name': 'entities_name',\n",
    "        'id': 'entities_id',\n",
    "        'id_str': 'entities_id-str'\n",
    "    })\n",
    "    \n",
    "    user_mentions.append(df)"
   ]
  },
  {
   "cell_type": "code",
   "execution_count": null,
   "metadata": {},
   "outputs": [],
   "source": [
    "user_mentions[0]"
   ]
  },
  {
   "cell_type": "code",
   "execution_count": null,
   "metadata": {},
   "outputs": [],
   "source": [
    "#empilhar e concatenar com a primeira tabela\n",
    "dfs = []\n",
    "for i in user_mentions:\n",
    "    dfs.append(\n",
    "        pd.concat([df_tratado.copy(), i], axis = 1))\n",
    "\n",
    "pd.concat(dfs, ignore_index = True)"
   ]
  },
  {
   "cell_type": "markdown",
   "metadata": {},
   "source": [
    "## Função que faz todo o tratamento do tweet e convert par aum dataFrame Pandas"
   ]
  },
  {
   "cell_type": "code",
   "execution_count": null,
   "metadata": {},
   "outputs": [],
   "source": [
    "def tweet_para_df (tweet):\n",
    "    try:\n",
    "        df_tratado = pd.DataFrame(tweet).reset_index(drop=True).iloc[:1]\n",
    "        df_tratado.drop(columns = ['quote_count','reply_count', 'retweet_count', 'favorite_count',\n",
    "                              'favorited', 'retweeted', 'user', 'entities', 'retweeted_status' ], inplace = True)\n",
    "\n",
    "        df_tratado['user_id'] = tweet['user']['id']\n",
    "        df_tratado['user_id_str'] = tweet['user']['id_str']\n",
    "        df_tratado['user_screen_name'] = tweet['user']['screen_name']\n",
    "        df_tratado['user_location'] = tweet['user']['location']\n",
    "\n",
    "        user_mentions = []\n",
    "\n",
    "        for i in range(len(tweet['entities']['user_mentions'])):\n",
    "            dicionariobase = tweet['entities']['user_mentions'][i].copy()\n",
    "            dicionariobase.pop('indices', None)\n",
    "            df = pd.DataFrame(dicionariobase, index = [0])\n",
    "            df = df.rename(columns = {\n",
    "                'screem_mame': 'entities_screen_name',\n",
    "                'name': 'entities_name',\n",
    "                'id': 'entities_id',\n",
    "                'id_str': 'entities_id-str'\n",
    "            })\n",
    "\n",
    "            user_mentions.append(df)\n",
    "\n",
    "        #empilhar e concatenar com a primeira tabela\n",
    "        dfs = []\n",
    "        for i in user_mentions:\n",
    "            dfs.append(\n",
    "                pd.concat([df_tratado.copy(), i], axis = 1))\n",
    "\n",
    "        df_final = pd.concat(dfs, ignore_index = True)\n",
    "    except:\n",
    "        return None\n",
    "        \n",
    "    return df_final"
   ]
  },
  {
   "cell_type": "code",
   "execution_count": null,
   "metadata": {},
   "outputs": [],
   "source": [
    "#Testes para ver se funciona a função\n",
    "tweet_para_df (parsed_tweets[100])"
   ]
  },
  {
   "cell_type": "code",
   "execution_count": null,
   "metadata": {},
   "outputs": [],
   "source": [
    " %%time\n",
    "#conta o tempo de execução\n",
    "# Iteração e transformação todos os twitter\n",
    "\n",
    "parseados = [tweet_para_df (tweet) for tweet in parsed_tweets]"
   ]
  },
  {
   "cell_type": "code",
   "execution_count": null,
   "metadata": {},
   "outputs": [],
   "source": [
    "#Eliminar os valores vazios\n",
    "parseados = [i for i in parseados if i is not None]\n"
   ]
  },
  {
   "cell_type": "code",
   "execution_count": null,
   "metadata": {},
   "outputs": [],
   "source": [
    "len(parseados)"
   ]
  },
  {
   "cell_type": "code",
   "execution_count": null,
   "metadata": {},
   "outputs": [],
   "source": [
    "#concatenando as linhas na vertical\n",
    "tratado = pd.concat(parseados, ignore_index = True)\n"
   ]
  },
  {
   "cell_type": "code",
   "execution_count": null,
   "metadata": {},
   "outputs": [],
   "source": [
    "#Teste\n",
    "len(tratado)"
   ]
  },
  {
   "cell_type": "markdown",
   "metadata": {},
   "source": [
    "## Importando os dados para o banco MySQL"
   ]
  },
  {
   "cell_type": "code",
   "execution_count": null,
   "metadata": {},
   "outputs": [],
   "source": [
    "#importa bliblioteca para conectar em MySql\n",
    "import pyodbc\n",
    "import mysql.connector\n",
    "# Import dataframe into MySQL\n",
    "import sqlalchemy"
   ]
  },
  {
   "cell_type": "code",
   "execution_count": null,
   "metadata": {},
   "outputs": [],
   "source": [
    "username = 'root'\n",
    "password = 'igti'\n",
    "ip       = 'localhost'\n",
    "database_name = 'bootcamp'\n",
    "con = sqlalchemy.create_engine('mysql+mysqlconnector://{0}:{1}@{2}/{3}'.format(username, password,ip, database_name))"
   ]
  },
  {
   "cell_type": "code",
   "execution_count": null,
   "metadata": {},
   "outputs": [],
   "source": [
    "#ingestão dos dados do Twitter Trampp\n",
    "\n",
    "tratado.to_sql(con=con, name='twitterTrampp', if_exists='replace',index=False )"
   ]
  }
 ],
 "metadata": {
  "kernelspec": {
   "display_name": "Python 3",
   "language": "python",
   "name": "python3"
  },
  "language_info": {
   "codemirror_mode": {
    "name": "ipython",
    "version": 3
   },
   "file_extension": ".py",
   "mimetype": "text/x-python",
   "name": "python",
   "nbconvert_exporter": "python",
   "pygments_lexer": "ipython3",
   "version": "3.8.5"
  }
 },
 "nbformat": 4,
 "nbformat_minor": 4
}
